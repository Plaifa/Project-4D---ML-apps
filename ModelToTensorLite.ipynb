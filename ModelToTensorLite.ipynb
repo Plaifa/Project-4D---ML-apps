{
 "cells": [
  {
   "cell_type": "markdown",
   "metadata": {
    "colab_type": "text",
    "id": "jgPaxKukr4zP"
   },
   "source": [
    "# **VGG16 Model with 31 classes = 3100 pics of dataset of sneaker (Sneaker Recognition ) **"
   ]
  },
  {
   "cell_type": "code",
   "execution_count": 0,
   "metadata": {
    "colab": {},
    "colab_type": "code",
    "id": "s15o_7Qaduqb"
   },
   "outputs": [],
   "source": [
    "!pip uninstall tensorflow\n",
    "!pip uninstall keras\n",
    "!pip install tensorflow==1.13.0rc1\n",
    "!pip install keras==2.1.3\n",
    "#reinstall version"
   ]
  },
  {
   "cell_type": "markdown",
   "metadata": {
    "colab_type": "text",
    "id": "w_Q_9MGgv8WQ"
   },
   "source": [
    "# import lib "
   ]
  },
  {
   "cell_type": "code",
   "execution_count": 0,
   "metadata": {
    "colab": {},
    "colab_type": "code",
    "id": "vtgCrOYur4zS"
   },
   "outputs": [],
   "source": [
    "import keras\n",
    "from math import ceil\n",
    "import numpy as np\n",
    "import pandas as pd\n",
    "from keras.models import Sequential,Model,load_model,model_from_json\n",
    "from keras.utils import to_categorical\n",
    "from keras.layers import Dense, Conv2D, MaxPooling2D, Dropout, Flatten,Input\n",
    "from keras.preprocessing.image import ImageDataGenerator\n",
    "from keras.applications.vgg16 import VGG16\n",
    "from keras.applications.vgg16 import preprocess_input\n",
    "\n",
    "from sklearn import metrics\n",
    "from sklearn.metrics import classification_report, confusion_matrix\n",
    "\n",
    "import matplotlib.pyplot as plt\n",
    "import tensorflow"
   ]
  },
  {
   "cell_type": "markdown",
   "metadata": {
    "colab_type": "text",
    "id": "mJ3u0FohwFmu"
   },
   "source": [
    "# open folder from google drive"
   ]
  },
  {
   "cell_type": "code",
   "execution_count": 2,
   "metadata": {
    "colab": {
     "base_uri": "https://localhost:8080/",
     "height": 126
    },
    "colab_type": "code",
    "id": "X5qksAT5sH_K",
    "outputId": "f6615a21-fbca-4693-fafd-351269ddc7f7"
   },
   "outputs": [
    {
     "name": "stdout",
     "output_type": "stream",
     "text": [
      "Go to this URL in a browser: https://accounts.google.com/o/oauth2/auth?client_id=947318989803-6bn6qk8qdgf4n4g3pfee6491hc0brc4i.apps.googleusercontent.com&redirect_uri=urn%3aietf%3awg%3aoauth%3a2.0%3aoob&response_type=code&scope=email%20https%3a%2f%2fwww.googleapis.com%2fauth%2fdocs.test%20https%3a%2f%2fwww.googleapis.com%2fauth%2fdrive%20https%3a%2f%2fwww.googleapis.com%2fauth%2fdrive.photos.readonly%20https%3a%2f%2fwww.googleapis.com%2fauth%2fpeopleapi.readonly\n",
      "\n",
      "Enter your authorization code:\n",
      "··········\n",
      "Mounted at /content/gdrive\n"
     ]
    }
   ],
   "source": [
    "from google.colab import drive\n",
    "drive.mount('/content/gdrive')"
   ]
  },
  {
   "cell_type": "markdown",
   "metadata": {
    "colab_type": "text",
    "id": "K_WvxFpdvTmv"
   },
   "source": [
    "# **convert h5 file To tflite**"
   ]
  },
  {
   "cell_type": "code",
   "execution_count": 0,
   "metadata": {
    "colab": {},
    "colab_type": "code",
    "id": "nA7zEcPsxY4J"
   },
   "outputs": [],
   "source": [
    "#from google.colab import files\n",
    "#pbfile = files.upload()\n",
    "filepath_h5 = '/content/Result_16042020_2.h5'"
   ]
  },
  {
   "cell_type": "code",
   "execution_count": 73,
   "metadata": {
    "colab": {
     "base_uri": "https://localhost:8080/",
     "height": 52
    },
    "colab_type": "code",
    "id": "MXzcc7OTp2Fe",
    "outputId": "2412d4bd-f621-4689-ea0f-5a04714e3b8f"
   },
   "outputs": [
    {
     "name": "stdout",
     "output_type": "stream",
     "text": [
      "INFO:tensorflow:Froze 32 variables.\n",
      "INFO:tensorflow:Converted 32 variables to const ops.\n"
     ]
    }
   ],
   "source": [
    "import tensorflow as tf\n",
    "#print(tensorflow.__version__)\n",
    "#print(keras.__version__)\n",
    "#tensorflow==1.13.0rc1 keras==2.1.3\n",
    "\n",
    "\n",
    "#print(new_model.outputs)\n",
    "#print(new_model.inputs)\n",
    "tflite_converter = tf.contrib.lite.TFLiteConverter.from_keras_model_file(filepath_h5)\n",
    "#tflite_converter = tf.contrib.lite.TFLiteConverter.from_saved_model(new_model,input_arrays=['image_input_4:0'],output_arrays=['predictions_4/Softmax:0'])"
   ]
  },
  {
   "cell_type": "code",
   "execution_count": 84,
   "metadata": {
    "colab": {
     "base_uri": "https://localhost:8080/",
     "height": 35
    },
    "colab_type": "code",
    "id": "b8W511JamURf",
    "outputId": "a462ca3c-f53c-498d-cb0d-251531297294"
   },
   "outputs": [
    {
     "name": "stdout",
     "output_type": "stream",
     "text": [
      "saved !\n"
     ]
    }
   ],
   "source": [
    "\n",
    "tflite_converter.inference_type=tf.lite.constants.QUANTIZED_UINT8\n",
    "tflite_converter.default_ranges_stats=[0,255]\n",
    "input_arrays = tflite_converter.get_input_arrays()\n",
    "tflite_converter.quantized_input_stats={input_arrays[0] : (0., 1.)}\n",
    "#tflite_converter.post_training_quantize = True\n",
    "tflite_model = tflite_converter.convert()\n",
    "\n",
    "open(\"tf_lite_model_v7.tflite\", \"wb\").write(tflite_model)\n",
    "print('saved !')\n",
    "\n"
   ]
  },
  {
   "cell_type": "code",
   "execution_count": 85,
   "metadata": {
    "colab": {
     "base_uri": "https://localhost:8080/",
     "height": 266
    },
    "colab_type": "code",
    "id": "XYhxZxceaZPi",
    "outputId": "ee274304-db8e-4600-9021-7ee5dfdf642e"
   },
   "outputs": [
    {
     "name": "stdout",
     "output_type": "stream",
     "text": [
      "total 2.7G\n",
      "drwx------ 4 root root 4.0K Apr 17 04:44 \u001b[0m\u001b[01;34mgdrive\u001b[0m/\n",
      "-rw-r--r-- 1 root root 513M Apr 17 10:06 Result_16042020_1.h5\n",
      "-rw-r--r-- 1 root root 970M Apr 17 10:06 Result_16042020_2.h5\n",
      "-rw-r--r-- 1 root root 1.7K Apr 17 10:06 Result_16042020.csv\n",
      "-rw-r--r-- 1 root root  13K Apr 17 10:06 Result_16042020.json\n",
      "drwxr-xr-x 1 root root 4.0K Apr  3 16:24 \u001b[01;34msample_data\u001b[0m/\n",
      "-rw-r--r-- 1 root root 513M Apr 17 11:07 tf_lite_model.tflite\n",
      "-rw-r--r-- 1 root root 129M Apr 17 13:53 tf_lite_model_v2.tflite\n",
      "-rw-r--r-- 1 root root 129M Apr 17 13:55 tf_lite_model_v3.tflite\n",
      "-rw-r--r-- 1 root root 129M Apr 17 14:05 tf_lite_model_v4.tflite\n",
      "-rw-r--r-- 1 root root 129M Apr 17 14:14 tf_lite_model_v5.tflite\n",
      "-rw-r--r-- 1 root root 129M Apr 17 15:06 tf_lite_model_v6.tflite\n",
      "-rw-r--r-- 1 root root 129M Apr 17 15:45 tf_lite_model_v7.tflite\n"
     ]
    }
   ],
   "source": [
    "ls -lh"
   ]
  },
  {
   "cell_type": "code",
   "execution_count": 0,
   "metadata": {
    "colab": {},
    "colab_type": "code",
    "id": "Vp9QxGDvx7dL"
   },
   "outputs": [],
   "source": [
    "interpreter = tf.lite.Interpreter(model_content=tflite_model)\n",
    "interpreter.allocate_tensors()"
   ]
  },
  {
   "cell_type": "code",
   "execution_count": 86,
   "metadata": {
    "colab": {
     "base_uri": "https://localhost:8080/",
     "height": 461
    },
    "colab_type": "code",
    "id": "coOaQbq0_yYW",
    "outputId": "2d003d11-8412-4410-d015-6bb07e9480dd"
   },
   "outputs": [
    {
     "name": "stderr",
     "output_type": "stream",
     "text": [
      "----------------------------------------\n",
      "Exception happened during processing of request from ('::ffff:127.0.0.1', 60840, 0, 0)\n",
      "Traceback (most recent call last):\n",
      "  File \"/usr/lib/python3.6/socketserver.py\", line 320, in _handle_request_noblock\n",
      "    self.process_request(request, client_address)\n",
      "  File \"/usr/lib/python3.6/socketserver.py\", line 351, in process_request\n",
      "    self.finish_request(request, client_address)\n",
      "  File \"/usr/lib/python3.6/socketserver.py\", line 364, in finish_request\n",
      "    self.RequestHandlerClass(request, client_address, self)\n",
      "  File \"/usr/lib/python3.6/socketserver.py\", line 724, in __init__\n",
      "    self.handle()\n",
      "  File \"/usr/lib/python3.6/http/server.py\", line 418, in handle\n",
      "    self.handle_one_request()\n",
      "  File \"/usr/lib/python3.6/http/server.py\", line 406, in handle_one_request\n",
      "    method()\n",
      "  File \"/usr/lib/python3.6/http/server.py\", line 639, in do_GET\n",
      "    self.copyfile(f, self.wfile)\n",
      "  File \"/usr/lib/python3.6/http/server.py\", line 800, in copyfile\n",
      "    shutil.copyfileobj(source, outputfile)\n",
      "  File \"/usr/lib/python3.6/shutil.py\", line 82, in copyfileobj\n",
      "    fdst.write(buf)\n",
      "  File \"/usr/lib/python3.6/socketserver.py\", line 803, in write\n",
      "    self._sock.sendall(b)\n",
      "ConnectionResetError: [Errno 104] Connection reset by peer\n",
      "----------------------------------------\n"
     ]
    }
   ],
   "source": [
    "filelite = '/content/tf_lite_model_v7.tflite'\n",
    "files.download(filelite)"
   ]
  }
 ],
 "metadata": {
  "colab": {
   "collapsed_sections": [],
   "name": "modelTraining_VGG16.ipynb",
   "provenance": []
  },
  "kernelspec": {
   "display_name": "Python 3",
   "language": "python",
   "name": "python3"
  },
  "language_info": {
   "codemirror_mode": {
    "name": "ipython",
    "version": 3
   },
   "file_extension": ".py",
   "mimetype": "text/x-python",
   "name": "python",
   "nbconvert_exporter": "python",
   "pygments_lexer": "ipython3",
   "version": "3.7.7"
  }
 },
 "nbformat": 4,
 "nbformat_minor": 1
}
