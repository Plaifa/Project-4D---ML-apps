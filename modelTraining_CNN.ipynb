{
 "cells": [
  {
   "cell_type": "markdown",
   "metadata": {},
   "source": [
    "# CNN Model with 10 classes = 1000 pics of dataset of sneaker (Sneaker Recognition ) "
   ]
  },
  {
   "cell_type": "code",
   "execution_count": 4,
   "metadata": {},
   "outputs": [
    {
     "name": "stderr",
     "output_type": "stream",
     "text": [
      "Using TensorFlow backend.\n",
      "C:\\Users\\user\\Anaconda3\\lib\\site-packages\\tensorflow\\python\\framework\\dtypes.py:516: FutureWarning: Passing (type, 1) or '1type' as a synonym of type is deprecated; in a future version of numpy, it will be understood as (type, (1,)) / '(1,)type'.\n",
      "  _np_qint8 = np.dtype([(\"qint8\", np.int8, 1)])\n",
      "C:\\Users\\user\\Anaconda3\\lib\\site-packages\\tensorflow\\python\\framework\\dtypes.py:517: FutureWarning: Passing (type, 1) or '1type' as a synonym of type is deprecated; in a future version of numpy, it will be understood as (type, (1,)) / '(1,)type'.\n",
      "  _np_quint8 = np.dtype([(\"quint8\", np.uint8, 1)])\n",
      "C:\\Users\\user\\Anaconda3\\lib\\site-packages\\tensorflow\\python\\framework\\dtypes.py:518: FutureWarning: Passing (type, 1) or '1type' as a synonym of type is deprecated; in a future version of numpy, it will be understood as (type, (1,)) / '(1,)type'.\n",
      "  _np_qint16 = np.dtype([(\"qint16\", np.int16, 1)])\n",
      "C:\\Users\\user\\Anaconda3\\lib\\site-packages\\tensorflow\\python\\framework\\dtypes.py:519: FutureWarning: Passing (type, 1) or '1type' as a synonym of type is deprecated; in a future version of numpy, it will be understood as (type, (1,)) / '(1,)type'.\n",
      "  _np_quint16 = np.dtype([(\"quint16\", np.uint16, 1)])\n",
      "C:\\Users\\user\\Anaconda3\\lib\\site-packages\\tensorflow\\python\\framework\\dtypes.py:520: FutureWarning: Passing (type, 1) or '1type' as a synonym of type is deprecated; in a future version of numpy, it will be understood as (type, (1,)) / '(1,)type'.\n",
      "  _np_qint32 = np.dtype([(\"qint32\", np.int32, 1)])\n",
      "C:\\Users\\user\\Anaconda3\\lib\\site-packages\\tensorflow\\python\\framework\\dtypes.py:525: FutureWarning: Passing (type, 1) or '1type' as a synonym of type is deprecated; in a future version of numpy, it will be understood as (type, (1,)) / '(1,)type'.\n",
      "  np_resource = np.dtype([(\"resource\", np.ubyte, 1)])\n",
      "C:\\Users\\user\\Anaconda3\\lib\\site-packages\\tensorboard\\compat\\tensorflow_stub\\dtypes.py:541: FutureWarning: Passing (type, 1) or '1type' as a synonym of type is deprecated; in a future version of numpy, it will be understood as (type, (1,)) / '(1,)type'.\n",
      "  _np_qint8 = np.dtype([(\"qint8\", np.int8, 1)])\n",
      "C:\\Users\\user\\Anaconda3\\lib\\site-packages\\tensorboard\\compat\\tensorflow_stub\\dtypes.py:542: FutureWarning: Passing (type, 1) or '1type' as a synonym of type is deprecated; in a future version of numpy, it will be understood as (type, (1,)) / '(1,)type'.\n",
      "  _np_quint8 = np.dtype([(\"quint8\", np.uint8, 1)])\n",
      "C:\\Users\\user\\Anaconda3\\lib\\site-packages\\tensorboard\\compat\\tensorflow_stub\\dtypes.py:543: FutureWarning: Passing (type, 1) or '1type' as a synonym of type is deprecated; in a future version of numpy, it will be understood as (type, (1,)) / '(1,)type'.\n",
      "  _np_qint16 = np.dtype([(\"qint16\", np.int16, 1)])\n",
      "C:\\Users\\user\\Anaconda3\\lib\\site-packages\\tensorboard\\compat\\tensorflow_stub\\dtypes.py:544: FutureWarning: Passing (type, 1) or '1type' as a synonym of type is deprecated; in a future version of numpy, it will be understood as (type, (1,)) / '(1,)type'.\n",
      "  _np_quint16 = np.dtype([(\"quint16\", np.uint16, 1)])\n",
      "C:\\Users\\user\\Anaconda3\\lib\\site-packages\\tensorboard\\compat\\tensorflow_stub\\dtypes.py:545: FutureWarning: Passing (type, 1) or '1type' as a synonym of type is deprecated; in a future version of numpy, it will be understood as (type, (1,)) / '(1,)type'.\n",
      "  _np_qint32 = np.dtype([(\"qint32\", np.int32, 1)])\n",
      "C:\\Users\\user\\Anaconda3\\lib\\site-packages\\tensorboard\\compat\\tensorflow_stub\\dtypes.py:550: FutureWarning: Passing (type, 1) or '1type' as a synonym of type is deprecated; in a future version of numpy, it will be understood as (type, (1,)) / '(1,)type'.\n",
      "  np_resource = np.dtype([(\"resource\", np.ubyte, 1)])\n"
     ]
    }
   ],
   "source": [
    "import keras\n",
    "from math import ceil\n",
    "import numpy as np\n",
    "import pandas as pd\n",
    "from keras.models import Sequential,Model,load_model,model_from_json\n",
    "from keras.utils import to_categorical\n",
    "from keras.layers import Dense, Conv2D, MaxPooling2D, Dropout, Flatten,Input\n",
    "from keras.preprocessing.image import ImageDataGenerator\n",
    "from keras.applications.vgg16 import VGG16\n",
    "from keras.applications.vgg16 import preprocess_input\n",
    "\n",
    "from sklearn import metrics\n",
    "from sklearn.metrics import classification_report, confusion_matrix\n",
    "\n",
    "\n",
    "import matplotlib.pyplot as plt"
   ]
  },
  {
   "cell_type": "code",
   "execution_count": 7,
   "metadata": {},
   "outputs": [
    {
     "name": "stdout",
     "output_type": "stream",
     "text": [
      "Found 720 images belonging to 10 classes.\n",
      "Found 180 images belonging to 10 classes.\n"
     ]
    }
   ],
   "source": [
    "train_datagen = ImageDataGenerator(dtype='float32',\n",
    "                           rescale=1.0/255.0,\n",
    "                           horizontal_flip=True,\n",
    "                           shear_range=0.2,\n",
    "                           zoom_range=0.2,\n",
    "                           width_shift_range=0.1,\n",
    "                           height_shift_range=0.1,\n",
    "                           fill_mode='nearest'\n",
    "                     ,validation_split=0.2)\n",
    "\n",
    "#ceil(dataset_size / batch_size)\n",
    "batch_size=32\n",
    "train_steps = ceil(720/batch_size)\n",
    "validation_steps = ceil(180/batch_size)\n",
    "\n",
    "\n",
    "traindata = train_datagen.flow_from_directory('Clean', target_size = (224, 224), batch_size = batch_size, class_mode='categorical', subset='training')\n",
    "validationdata = train_datagen.flow_from_directory('Clean', target_size = (224, 224), batch_size = batch_size, class_mode = 'categorical',subset='validation')"
   ]
  },
  {
   "cell_type": "code",
   "execution_count": 18,
   "metadata": {},
   "outputs": [
    {
     "name": "stdout",
     "output_type": "stream",
     "text": [
      "Model: \"sequential_6\"\n",
      "_________________________________________________________________\n",
      "Layer (type)                 Output Shape              Param #   \n",
      "=================================================================\n",
      "conv2d_31 (Conv2D)           (None, 224, 224, 32)      896       \n",
      "_________________________________________________________________\n",
      "conv2d_32 (Conv2D)           (None, 224, 224, 32)      9248      \n",
      "_________________________________________________________________\n",
      "max_pooling2d_16 (MaxPooling (None, 112, 112, 32)      0         \n",
      "_________________________________________________________________\n",
      "conv2d_33 (Conv2D)           (None, 112, 112, 64)      18496     \n",
      "_________________________________________________________________\n",
      "conv2d_34 (Conv2D)           (None, 112, 112, 64)      36928     \n",
      "_________________________________________________________________\n",
      "max_pooling2d_17 (MaxPooling (None, 56, 56, 64)        0         \n",
      "_________________________________________________________________\n",
      "conv2d_35 (Conv2D)           (None, 56, 56, 128)       73856     \n",
      "_________________________________________________________________\n",
      "conv2d_36 (Conv2D)           (None, 56, 56, 128)       147584    \n",
      "_________________________________________________________________\n",
      "max_pooling2d_18 (MaxPooling (None, 28, 28, 128)       0         \n",
      "_________________________________________________________________\n",
      "flatten_6 (Flatten)          (None, 100352)            0         \n",
      "_________________________________________________________________\n",
      "dropout_6 (Dropout)          (None, 100352)            0         \n",
      "_________________________________________________________________\n",
      "dense_16 (Dense)             (None, 256)               25690368  \n",
      "_________________________________________________________________\n",
      "dense_17 (Dense)             (None, 256)               65792     \n",
      "_________________________________________________________________\n",
      "dense_18 (Dense)             (None, 10)                2570      \n",
      "=================================================================\n",
      "Total params: 26,045,738\n",
      "Trainable params: 26,045,738\n",
      "Non-trainable params: 0\n",
      "_________________________________________________________________\n",
      "None\n"
     ]
    }
   ],
   "source": [
    "modelCNN = Sequential() #Create neural network \n",
    "#add layers\n",
    "#Convolutional1 -> pooling1 -> Convolutional2 -> pooling2 -> Convolutional3 -> pooling3\n",
    "modelCNN.add(Conv2D(32, (3, 3), input_shape=(224, 224, 3), padding='same', activation='relu'))\n",
    "modelCNN.add(Conv2D(32, (3, 3), input_shape=(224, 224, 3), padding='same', activation='relu'))\n",
    "modelCNN.add(MaxPooling2D(pool_size=(2, 2)))\n",
    "modelCNN.add(Conv2D(64, (3, 3), activation='relu', padding='same'))\n",
    "modelCNN.add(Conv2D(64, (3, 3), activation='relu', padding='same'))\n",
    "modelCNN.add(MaxPooling2D(pool_size=(2, 2)))\n",
    "modelCNN.add(Conv2D(128, (3, 3), activation='relu', padding='same'))\n",
    "modelCNN.add(Conv2D(128, (3, 3), activation='relu', padding='same'))\n",
    "modelCNN.add(MaxPooling2D(pool_size=(2, 2)))\n",
    "\n",
    "#add fully connected -> Dense\n",
    "modelCNN.add(Flatten())\n",
    "modelCNN.add(Dropout(0.2))\n",
    "modelCNN.add(Dense(256, activation='relu'))\n",
    "modelCNN.add(Dense(256, activation='relu'))\n",
    "modelCNN.add(Dense(10, activation='softmax'))\n",
    "optimizer=keras.optimizers.adam(lr=0.001)\n",
    "modelCNN.compile(loss='categorical_crossentropy', optimizer=optimizer, metrics=['accuracy'])\n",
    "print(modelCNN.summary())"
   ]
  },
  {
   "cell_type": "code",
   "execution_count": 19,
   "metadata": {},
   "outputs": [
    {
     "name": "stdout",
     "output_type": "stream",
     "text": [
      "Epoch 1/50\n",
      "23/23 [==============================] - 144s 6s/step - loss: 2.4268 - accuracy: 0.0736 - val_loss: 2.3015 - val_accuracy: 0.1000\n",
      "Epoch 2/50\n",
      "23/23 [==============================] - 141s 6s/step - loss: 2.3015 - accuracy: 0.1028 - val_loss: 2.2886 - val_accuracy: 0.1333\n",
      "Epoch 3/50\n",
      "23/23 [==============================] - 139s 6s/step - loss: 2.2937 - accuracy: 0.1833 - val_loss: 2.2895 - val_accuracy: 0.1278\n",
      "Epoch 4/50\n",
      "23/23 [==============================] - 139s 6s/step - loss: 2.2729 - accuracy: 0.1639 - val_loss: 2.2512 - val_accuracy: 0.2389\n",
      "Epoch 5/50\n",
      "23/23 [==============================] - 140s 6s/step - loss: 2.2087 - accuracy: 0.2139 - val_loss: 2.2938 - val_accuracy: 0.2222\n",
      "Epoch 6/50\n",
      "23/23 [==============================] - 139s 6s/step - loss: 2.0569 - accuracy: 0.2667 - val_loss: 2.1242 - val_accuracy: 0.2389\n",
      "Epoch 7/50\n",
      "23/23 [==============================] - 140s 6s/step - loss: 2.1184 - accuracy: 0.2375 - val_loss: 2.0305 - val_accuracy: 0.2556\n",
      "Epoch 8/50\n",
      "23/23 [==============================] - 140s 6s/step - loss: 1.9890 - accuracy: 0.3069 - val_loss: 1.8266 - val_accuracy: 0.3111\n",
      "Epoch 9/50\n",
      "23/23 [==============================] - 140s 6s/step - loss: 1.8570 - accuracy: 0.3611 - val_loss: 1.6722 - val_accuracy: 0.4278\n",
      "Epoch 10/50\n",
      "23/23 [==============================] - 140s 6s/step - loss: 1.7452 - accuracy: 0.4083 - val_loss: 1.6379 - val_accuracy: 0.4167\n",
      "Epoch 11/50\n",
      "23/23 [==============================] - 139s 6s/step - loss: 1.6097 - accuracy: 0.4542 - val_loss: 2.1892 - val_accuracy: 0.4889\n",
      "Epoch 12/50\n",
      "23/23 [==============================] - 140s 6s/step - loss: 1.3481 - accuracy: 0.5542 - val_loss: 1.6377 - val_accuracy: 0.4389\n",
      "Epoch 13/50\n",
      "23/23 [==============================] - 139s 6s/step - loss: 1.4725 - accuracy: 0.4958 - val_loss: 1.5517 - val_accuracy: 0.5500\n",
      "Epoch 14/50\n",
      "23/23 [==============================] - 140s 6s/step - loss: 1.2931 - accuracy: 0.5972 - val_loss: 1.3813 - val_accuracy: 0.6500\n",
      "Epoch 15/50\n",
      "23/23 [==============================] - 140s 6s/step - loss: 1.1577 - accuracy: 0.6069 - val_loss: 1.0102 - val_accuracy: 0.6889\n",
      "Epoch 16/50\n",
      "23/23 [==============================] - 140s 6s/step - loss: 1.0537 - accuracy: 0.6472 - val_loss: 1.0110 - val_accuracy: 0.7000\n",
      "Epoch 17/50\n",
      "23/23 [==============================] - 139s 6s/step - loss: 0.9395 - accuracy: 0.6847 - val_loss: 0.7238 - val_accuracy: 0.7500\n",
      "Epoch 18/50\n",
      "23/23 [==============================] - 139s 6s/step - loss: 0.8755 - accuracy: 0.6944 - val_loss: 0.5962 - val_accuracy: 0.7722\n",
      "Epoch 19/50\n",
      "23/23 [==============================] - 149s 6s/step - loss: 0.8507 - accuracy: 0.7236 - val_loss: 0.3518 - val_accuracy: 0.7444\n",
      "Epoch 20/50\n",
      "23/23 [==============================] - 149s 6s/step - loss: 0.7341 - accuracy: 0.7667 - val_loss: 0.9979 - val_accuracy: 0.8333\n",
      "Epoch 21/50\n",
      "23/23 [==============================] - 147s 6s/step - loss: 0.5992 - accuracy: 0.8278 - val_loss: 0.4893 - val_accuracy: 0.8111\n",
      "Epoch 22/50\n",
      "23/23 [==============================] - 147s 6s/step - loss: 0.6201 - accuracy: 0.8069 - val_loss: 0.4919 - val_accuracy: 0.7833\n",
      "Epoch 23/50\n",
      "23/23 [==============================] - 152s 7s/step - loss: 0.6257 - accuracy: 0.7958 - val_loss: 0.7503 - val_accuracy: 0.8556\n",
      "Epoch 24/50\n",
      "23/23 [==============================] - 151s 7s/step - loss: 0.5412 - accuracy: 0.8389 - val_loss: 0.2589 - val_accuracy: 0.8167\n",
      "Epoch 25/50\n",
      "23/23 [==============================] - 146s 6s/step - loss: 0.5462 - accuracy: 0.8167 - val_loss: 0.3428 - val_accuracy: 0.8778\n",
      "Epoch 26/50\n",
      "23/23 [==============================] - 163s 7s/step - loss: 0.4357 - accuracy: 0.8472 - val_loss: 0.3276 - val_accuracy: 0.8833\n",
      "Epoch 27/50\n",
      "23/23 [==============================] - 150s 7s/step - loss: 0.4431 - accuracy: 0.8694 - val_loss: 0.3462 - val_accuracy: 0.8444\n",
      "Epoch 28/50\n",
      "23/23 [==============================] - 153s 7s/step - loss: 0.4101 - accuracy: 0.8694 - val_loss: 1.0558 - val_accuracy: 0.8611\n",
      "Epoch 29/50\n",
      "23/23 [==============================] - 156s 7s/step - loss: 0.4094 - accuracy: 0.8708 - val_loss: 0.1706 - val_accuracy: 0.8722\n",
      "Epoch 30/50\n",
      "23/23 [==============================] - 142s 6s/step - loss: 0.3949 - accuracy: 0.8694 - val_loss: 0.6899 - val_accuracy: 0.9000\n",
      "Epoch 31/50\n",
      "23/23 [==============================] - 144s 6s/step - loss: 0.3270 - accuracy: 0.9028 - val_loss: 0.2339 - val_accuracy: 0.8611\n",
      "Epoch 32/50\n",
      "23/23 [==============================] - 144s 6s/step - loss: 0.2936 - accuracy: 0.8958 - val_loss: 0.1439 - val_accuracy: 0.9278\n",
      "Epoch 33/50\n",
      "23/23 [==============================] - 141s 6s/step - loss: 0.2954 - accuracy: 0.9167 - val_loss: 0.3346 - val_accuracy: 0.9111\n",
      "Epoch 34/50\n",
      "23/23 [==============================] - 141s 6s/step - loss: 0.3295 - accuracy: 0.8986 - val_loss: 0.3730 - val_accuracy: 0.8944\n",
      "Epoch 35/50\n",
      "23/23 [==============================] - 141s 6s/step - loss: 0.2698 - accuracy: 0.9111 - val_loss: 0.1494 - val_accuracy: 0.8944\n",
      "Epoch 36/50\n",
      "23/23 [==============================] - 141s 6s/step - loss: 0.2799 - accuracy: 0.9153 - val_loss: 0.5638 - val_accuracy: 0.9167\n",
      "Epoch 37/50\n",
      "23/23 [==============================] - 141s 6s/step - loss: 0.2300 - accuracy: 0.9375 - val_loss: 0.0742 - val_accuracy: 0.9278\n",
      "Epoch 38/50\n",
      "23/23 [==============================] - 141s 6s/step - loss: 0.2765 - accuracy: 0.9181 - val_loss: 0.0604 - val_accuracy: 0.9333\n",
      "Epoch 39/50\n",
      "23/23 [==============================] - 140s 6s/step - loss: 0.2252 - accuracy: 0.9306 - val_loss: 0.2661 - val_accuracy: 0.9278\n",
      "Epoch 40/50\n",
      "23/23 [==============================] - 143s 6s/step - loss: 0.2433 - accuracy: 0.9194 - val_loss: 0.0571 - val_accuracy: 0.9389\n",
      "Epoch 41/50\n",
      "23/23 [==============================] - 143s 6s/step - loss: 0.2136 - accuracy: 0.9222 - val_loss: 0.0724 - val_accuracy: 0.9611\n",
      "Epoch 42/50\n",
      "23/23 [==============================] - 141s 6s/step - loss: 0.2505 - accuracy: 0.9153 - val_loss: 0.1154 - val_accuracy: 0.9222\n",
      "Epoch 43/50\n",
      "23/23 [==============================] - 140s 6s/step - loss: 0.1683 - accuracy: 0.9458 - val_loss: 0.0700 - val_accuracy: 0.9500\n",
      "Epoch 44/50\n",
      "23/23 [==============================] - 140s 6s/step - loss: 0.1483 - accuracy: 0.9556 - val_loss: 0.0564 - val_accuracy: 0.9500\n",
      "Epoch 45/50\n",
      "23/23 [==============================] - 148s 6s/step - loss: 0.2017 - accuracy: 0.9250 - val_loss: 0.1795 - val_accuracy: 0.9278\n",
      "Epoch 46/50\n",
      "23/23 [==============================] - 141s 6s/step - loss: 0.1986 - accuracy: 0.9431 - val_loss: 0.3636 - val_accuracy: 0.9333\n",
      "Epoch 47/50\n",
      "23/23 [==============================] - 141s 6s/step - loss: 0.1275 - accuracy: 0.9583 - val_loss: 0.3652 - val_accuracy: 0.9333\n",
      "Epoch 48/50\n",
      "23/23 [==============================] - 141s 6s/step - loss: 0.1178 - accuracy: 0.9639 - val_loss: 0.5753 - val_accuracy: 0.9389\n",
      "Epoch 49/50\n",
      "23/23 [==============================] - 141s 6s/step - loss: 0.1732 - accuracy: 0.9361 - val_loss: 0.1095 - val_accuracy: 0.9389\n",
      "Epoch 50/50\n",
      "23/23 [==============================] - 140s 6s/step - loss: 0.1367 - accuracy: 0.9569 - val_loss: 0.0287 - val_accuracy: 0.9278\n"
     ]
    }
   ],
   "source": [
    "showmodel = modelCNN.fit_generator(traindata,\n",
    "                                   steps_per_epoch=train_steps,\n",
    "                                   epochs=50,\n",
    "                                   validation_data=validationdata,\n",
    "                                   validation_steps=validation_steps)#eveluate Model"
   ]
  },
  {
   "cell_type": "code",
   "execution_count": 20,
   "metadata": {},
   "outputs": [
    {
     "name": "stdout",
     "output_type": "stream",
     "text": [
      "\n",
      "Train accuracy: 0.949999988079071 0.2353711873292923\n",
      "\n",
      "Test accuracy: 0.9388889074325562 0.03483445942401886\n"
     ]
    }
   ],
   "source": [
    "train_loss, train_acc = modelCNN.evaluate_generator(generator=traindata,steps=train_steps)\n",
    "print('\\nTrain accuracy:', train_acc,train_loss)\n",
    "\n",
    "\n",
    "test_loss, test_acc = modelCNN.evaluate_generator(generator=validationdata,steps=validation_steps)\n",
    "print('\\nTest accuracy:', test_acc,test_loss)"
   ]
  },
  {
   "cell_type": "code",
   "execution_count": 21,
   "metadata": {},
   "outputs": [
    {
     "name": "stdout",
     "output_type": "stream",
     "text": [
      "Found 100 images belonging to 10 classes.\n",
      "4/4 [==============================] - 6s 1s/step\n"
     ]
    }
   ],
   "source": [
    "#create class \n",
    "test_datagen = ImageDataGenerator(rescale=1. / 255)\n",
    "testdata = test_datagen.flow_from_directory('test/test', target_size = (224, 224),batch_size=32,shuffle=False)\n",
    "test_steps_per_epoch = ceil(testdata.samples / testdata.batch_size)\n",
    "\n",
    "predict = modelCNN.predict_generator(testdata,steps=test_steps_per_epoch,verbose=1)\n",
    "predicted_class=np.argmax(predict,axis=1)"
   ]
  },
  {
   "cell_type": "code",
   "execution_count": 22,
   "metadata": {},
   "outputs": [
    {
     "name": "stdout",
     "output_type": "stream",
     "text": [
      "              precision    recall  f1-score   support\n",
      "\n",
      "           0       1.00      1.00      1.00        10\n",
      "           1       1.00      1.00      1.00        10\n",
      "           2       1.00      1.00      1.00        10\n",
      "           3       1.00      1.00      1.00        10\n",
      "           4       1.00      0.90      0.95        10\n",
      "           5       1.00      1.00      1.00        10\n",
      "           6       0.90      0.90      0.90        10\n",
      "           7       0.91      1.00      0.95        10\n",
      "           8       1.00      1.00      1.00        10\n",
      "           9       1.00      1.00      1.00        10\n",
      "\n",
      "    accuracy                           0.98       100\n",
      "   macro avg       0.98      0.98      0.98       100\n",
      "weighted avg       0.98      0.98      0.98       100\n",
      "\n",
      "[0 0 0 0 0 0 0 0 0 0 1 1 1 1 1 1 1 1 1 1 2 2 2 2 2 2 2 2 2 2 3 3 3 3 3 3 3\n",
      " 3 3 3 4 4 4 4 4 4 4 4 4 4 5 5 5 5 5 5 5 5 5 5 6 6 6 6 6 6 6 6 6 6 7 7 7 7\n",
      " 7 7 7 7 7 7 8 8 8 8 8 8 8 8 8 8 9 9 9 9 9 9 9 9 9 9]\n",
      "[0 0 0 0 0 0 0 0 0 0 1 1 1 1 1 1 1 1 1 1 2 2 2 2 2 2 2 2 2 2 3 3 3 3 3 3 3\n",
      " 3 3 3 6 4 4 4 4 4 4 4 4 4 5 5 5 5 5 5 5 5 5 5 6 6 6 6 7 6 6 6 6 6 7 7 7 7\n",
      " 7 7 7 7 7 7 8 8 8 8 8 8 8 8 8 8 9 9 9 9 9 9 9 9 9 9]\n"
     ]
    }
   ],
   "source": [
    "true_class = testdata.classes\n",
    "class_labels = list(testdata.class_indices.keys())\n",
    "\n",
    "report = metrics.classification_report(true_class, predicted_class, target_names=class_labels)\n",
    "print(report)    \n",
    "\n",
    "print(true_class)    \n",
    "print(predicted_class)  "
   ]
  },
  {
   "cell_type": "code",
   "execution_count": 23,
   "metadata": {},
   "outputs": [
    {
     "name": "stdout",
     "output_type": "stream",
     "text": [
      " 100\n",
      " 100\n"
     ]
    }
   ],
   "source": [
    "#save model & weight & result from 100 testing data into .csv file\n",
    "filenames=testdata.filenames\n",
    "print (\"\",len(filenames))\n",
    "print (\"\",len(predicted_class))\n",
    "results=pd.DataFrame({\"Filename\":filenames,\n",
    "                     \"Predictions\":predicted_class})\n",
    "results.to_csv(\"FinalResultCNN.csv\",index=False)\n",
    "with open('Finalmodel_architectureRealCNN.json', 'w') as f:\n",
    "    f.write(modelCNN.to_json())\n",
    "modelCNN.save_weights(\"FinalmodelRealCNN.h5\")"
   ]
  },
  {
   "cell_type": "code",
   "execution_count": 24,
   "metadata": {},
   "outputs": [
    {
     "data": {
      "image/png": "[encoded data removed]",
      "text/plain": [
       "<Figure size 432x288 with 1 Axes>"
      ]
     },
     "metadata": {
      "needs_background": "light"
     },
     "output_type": "display_data"
    },
    {
     "data": {
      "image/png": "[encoded data removed]",
      "text/plain": [
       "<Figure size 432x288 with 1 Axes>"
      ]
     },
     "metadata": {
      "needs_background": "light"
     },
     "output_type": "display_data"
    }
   ],
   "source": [
    "#กราฟแสดงค่าaccuracy\n",
    "plt.plot(showmodel.history['accuracy'])\n",
    "plt.plot(showmodel.history['val_accuracy'])\n",
    "plt.title('model Accuracy')\n",
    "plt.ylabel('accuracy')\n",
    "plt.xlabel('epoch')\n",
    "plt.legend(['train', 'test'], loc='upper left')\n",
    "plt.show()\n",
    "#กราฟแสดงค่าloss\n",
    "plt.plot(showmodel.history['loss'])\n",
    "plt.plot(showmodel.history['val_loss'])\n",
    "plt.title('model Loss')\n",
    "plt.ylabel('loss')\n",
    "plt.xlabel('epoch')\n",
    "plt.legend(['train', 'test'], loc='upper left')\n",
    "plt.show()"
   ]
  }
 ],
 "metadata": {
  "kernelspec": {
   "display_name": "Python 3",
   "language": "python",
   "name": "python3"
  },
  "language_info": {
   "codemirror_mode": {
    "name": "ipython",
    "version": 3
   },
   "file_extension": ".py",
   "mimetype": "text/x-python",
   "name": "python",
   "nbconvert_exporter": "python",
   "pygments_lexer": "ipython3",
   "version": "3.7.7"
  }
 },
 "nbformat": 4,
 "nbformat_minor": 2
}
