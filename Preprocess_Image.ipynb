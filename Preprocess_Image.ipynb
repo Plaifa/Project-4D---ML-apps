{
 "cells": [
  {
   "cell_type": "code",
   "execution_count": 2,
   "metadata": {},
   "outputs": [],
   "source": [
    "import zipfile\n",
    "unzipTrain = zipfile.ZipFile(\"\\image\\Clean.zip\", 'r')\n",
    "unzipTrain.extractall(\"Clean\")\n",
    "\n",
    "unzipTest = zipfile.ZipFile(\"\\image\\test.zip\", 'r')\n",
    "unzipTest.extractall(\"test\")"
   ]
  },
  {
   "cell_type": "code",
   "execution_count": 1,
   "metadata": {},
   "outputs": [],
   "source": [
    "import os,sys,cv2\n",
    "from PIL import Image\n",
    "\n",
    "\n",
    "resize_method = Image.ANTIALIAS\n",
    "height = 224\n",
    "weight = 224\n",
    "extensions= ['JPG']"
   ]
  },
  {
   "cell_type": "code",
   "execution_count": 15,
   "metadata": {},
   "outputs": [
    {
     "name": "stdout",
     "output_type": "stream",
     "text": [
      "C:\\Users\\user\\test\\test\\0\n",
      "C:\\Users\\user\\test\\test\\1\n",
      "C:\\Users\\user\\test\\test\\2\n",
      "C:\\Users\\user\\test\\test\\3\n",
      "C:\\Users\\user\\test\\test\\4\n",
      "C:\\Users\\user\\test\\test\\5\n",
      "C:\\Users\\user\\test\\test\\6\n",
      "C:\\Users\\user\\test\\test\\7\n",
      "C:\\Users\\user\\test\\test\\8\n",
      "C:\\Users\\user\\test\\test\\9\n",
      "C:\\Users\\user\\Clean\\0\n",
      "C:\\Users\\user\\Clean\\1\n",
      "C:\\Users\\user\\Clean\\2\n",
      "C:\\Users\\user\\Clean\\3\n",
      "C:\\Users\\user\\Clean\\4\n",
      "C:\\Users\\user\\Clean\\5\n",
      "C:\\Users\\user\\Clean\\6\n",
      "C:\\Users\\user\\Clean\\7\n",
      "C:\\Users\\user\\Clean\\8\n",
      "C:\\Users\\user\\Clean\\9\n",
      "C:\\Users\\user\\test\\test\\0\n",
      "C:\\Users\\user\\test\\test\\1\n",
      "C:\\Users\\user\\test\\test\\2\n",
      "C:\\Users\\user\\test\\test\\3\n",
      "C:\\Users\\user\\test\\test\\4\n",
      "C:\\Users\\user\\test\\test\\5\n",
      "C:\\Users\\user\\test\\test\\6\n",
      "C:\\Users\\user\\test\\test\\7\n",
      "C:\\Users\\user\\test\\test\\8\n",
      "C:\\Users\\user\\test\\test\\9\n",
      "C:\\Users\\user\\Clean\\0\n",
      "C:\\Users\\user\\Clean\\1\n",
      "C:\\Users\\user\\Clean\\2\n",
      "C:\\Users\\user\\Clean\\3\n",
      "C:\\Users\\user\\Clean\\4\n",
      "C:\\Users\\user\\Clean\\5\n",
      "C:\\Users\\user\\Clean\\6\n",
      "C:\\Users\\user\\Clean\\7\n",
      "C:\\Users\\user\\Clean\\8\n",
      "C:\\Users\\user\\Clean\\9\n"
     ]
    }
   ],
   "source": [
    "path1 = \"C:\\\\Users\\\\user\\\\test\\\\test\\\\\"\n",
    "path2 = \"C:\\\\Users\\\\user\\\\Clean\\\\\"\n",
    "\n",
    "def resize(path):\n",
    "    for i in range (0,10) :\n",
    "        dirr = path + str(i)\n",
    "        print(dirr)\n",
    "        dirs = os.listdir( dirr )\n",
    "        for item in dirs:\n",
    "           # print(path+'\\\\'+item)\n",
    "            if os.path.isfile(dirr+'\\\\'+item):\n",
    "                im = Image.open(dirr+'\\\\'+item)\n",
    "                f, e = os.path.splitext(dirr+'\\\\'+item)\n",
    "                imResize = im.resize((224,224), Image.ANTIALIAS)\n",
    "                imResize.save(f+'.JPG', quality=100)\n",
    "    \n",
    "def ConvertToGray(path):\n",
    "     for i in range (0,10) :\n",
    "        dirr = path + str(i)\n",
    "        print(dirr)\n",
    "        dirs = os.listdir( dirr )\n",
    "        for item in dirs:\n",
    "                 if os.path.isfile(dirr+'\\\\'+item):\n",
    "                        imgConv = cv2.imread(dirr+'\\\\'+item)\n",
    "                        gray = cv2.cvtColor(imgConv,cv2.COLOR_BGR2GRAY)\n",
    "                        cv2.imwrite(dirr+'\\\\'+item,gray)\n",
    "resize(path1)\n",
    "resize(path2)\n",
    "ConvertToGray(path1)\n",
    "ConvertToGray(path2)"
   ]
  }
 ],
 "metadata": {
  "kernelspec": {
   "display_name": "Python 3",
   "language": "python",
   "name": "python3"
  },
  "language_info": {
   "codemirror_mode": {
    "name": "ipython",
    "version": 3
   },
   "file_extension": ".py",
   "mimetype": "text/x-python",
   "name": "python",
   "nbconvert_exporter": "python",
   "pygments_lexer": "ipython3",
   "version": "3.7.7"
  }
 },
 "nbformat": 4,
 "nbformat_minor": 2
}
